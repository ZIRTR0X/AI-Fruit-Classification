{
 "cells": [
  {
   "cell_type": "code",
   "execution_count": 1,
   "metadata": {},
   "outputs": [],
   "source": [
    "import matplotlib.pyplot as plt\n",
    "import numpy as np\n",
    "import pandas as pd\n",
    "import sklearn as sk\n",
    "import cv2 as cv\n",
    "import os\n",
    "from sklearn import datasets"
   ]
  },
  {
   "cell_type": "code",
   "execution_count": 2,
   "metadata": {},
   "outputs": [],
   "source": [
    "#création d'un dataframe contenant toutes les images avec leur appelation \n",
    "def createDataFrame(myDir):\n",
    "    dataframe = pd.DataFrame(columns=['label', 'img_hsv'])\n",
    "    for mroot, mdirs, mfiles in os.walk(myDir):\n",
    "        for dir in mdirs:\n",
    "            label = dir\n",
    "            print(label)\n",
    "            for root, dirs, files in os.walk(mroot+'\\\\'+dir):\n",
    "                for file in files:\n",
    "                    img = cv.imread(root+'\\\\'+file)\n",
    "                    imgresize = cv.resize(img, (80, 80))\n",
    "                    dataframe = dataframe.append({'label': label, 'gray': img}, ignore_index=True)\n",
    "                    #traitement de l'image en nuance de gris\n",
    "                    # gray = cv.cvtColor(imgresize, cv.COLOR_BGR2GRAY)\n",
    "                    # dataframe = dataframe.append({'label': label, 'gray': gray}, ignore_index=True)\n",
    "    return dataframe\n",
    "    "
   ]
  },
  {
   "cell_type": "code",
   "execution_count": 3,
   "metadata": {},
   "outputs": [
    {
     "name": "stdout",
     "output_type": "stream",
     "text": [
      "Apple Braeburn\n",
      "Apple Crimson Snow\n",
      "Apple Golden 1\n",
      "Apple Golden 2\n",
      "Apple Golden 3\n",
      "Banana\n",
      "Banana Red\n",
      "Cherry 1\n",
      "Cherry 2\n",
      "Cocos\n",
      "Corn\n",
      "Kiwi\n",
      "Peach\n",
      "Pear\n"
     ]
    }
   ],
   "source": [
    "DataFrame=createDataFrame('./dataset/Training/')"
   ]
  },
  {
   "cell_type": "code",
   "execution_count": 4,
   "metadata": {},
   "outputs": [
    {
     "name": "stdout",
     "output_type": "stream",
     "text": [
      "100\n",
      "6989\n"
     ]
    }
   ],
   "source": [
    "#transforme le DataFrame en un tableau de photo X et un tableau de label y\n",
    "X_train = list(DataFrame['gray'])\n",
    "y_train = list(DataFrame['label'])\n",
    "print(len(X_train[0])) # Taille de l'image\n",
    "print(len(X_train)) # Nombre d'images"
   ]
  },
  {
   "cell_type": "code",
   "execution_count": 5,
   "metadata": {},
   "outputs": [],
   "source": [
    "#transforme les données en vecteur colonne (1D)\n",
    "for i in range(len(X_train)):\n",
    "    X_train[i] = X_train[i].flatten()"
   ]
  },
  {
   "cell_type": "code",
   "execution_count": 6,
   "metadata": {},
   "outputs": [
    {
     "name": "stdout",
     "output_type": "stream",
     "text": [
      "Apple Braeburn\n",
      "Apple Crimson Snow\n",
      "Apple Golden 1\n",
      "Apple Golden 2\n",
      "Apple Golden 3\n",
      "Banana\n",
      "Banana Red\n",
      "Cherry 1\n",
      "Cherry 2\n",
      "Cocos\n",
      "Corn\n",
      "Kiwi\n",
      "Peach\n",
      "Pear\n"
     ]
    }
   ],
   "source": [
    "DataFrameTest=createDataFrame('./dataset/Test/')"
   ]
  },
  {
   "cell_type": "code",
   "execution_count": 7,
   "metadata": {},
   "outputs": [
    {
     "name": "stdout",
     "output_type": "stream",
     "text": [
      "100\n",
      "2339\n"
     ]
    }
   ],
   "source": [
    "#transforme le DataFrame en un tableau de photo X et un tableau de label y\n",
    "X_test = list(DataFrameTest['gray'])\n",
    "y_test = list(DataFrameTest['label'])\n",
    "print(len(X_test[0])) # Taille des images\n",
    "print(len(X_test)) # Nombre d'images"
   ]
  },
  {
   "cell_type": "code",
   "execution_count": 8,
   "metadata": {},
   "outputs": [],
   "source": [
    "#transforme les données en vecteur colonne (1D)\n",
    "for i in range(len(X_test)):\n",
    "    X_test[i] = X_test[i].flatten()"
   ]
  },
  {
   "cell_type": "code",
   "execution_count": 9,
   "metadata": {},
   "outputs": [
    {
     "data": {
      "text/plain": [
       "SVC(C=1, gamma=0.01, kernel='linear')"
      ]
     },
     "execution_count": 9,
     "metadata": {},
     "output_type": "execute_result"
    }
   ],
   "source": [
    "from sklearn import svm\n",
    "from sklearn.model_selection import GridSearchCV\n",
    "\n",
    "# ---------------------------- Parameter tuning ---------------------------------\n",
    "# Permet de tester les meilleur combinaison de parametre\n",
    "# param_grid = [\n",
    "#   {'C': [0.001, 0.01, 0.1, 1, 10, 100, 1000], 'kernel': ['linear'], 'gamma': [0.01, 0.001, 0.0001]},\n",
    "#  ]\n",
    "# svc = svm.SVC()\n",
    "# clf = GridSearchCV(svc, param_grid, verbose=3)\n",
    "# clf.fit(X_train, y_train)\n",
    "\n",
    "clf = svm.SVC(C=1, kernel='linear', gamma=0.01)\n",
    "clf.fit(X_train, y_train)"
   ]
  },
  {
   "cell_type": "code",
   "execution_count": 10,
   "metadata": {},
   "outputs": [
    {
     "name": "stdout",
     "output_type": "stream",
     "text": [
      "0.9298845660538692\n"
     ]
    }
   ],
   "source": [
    "clf.predict(X_test)\n",
    "clf.score(X_test, y_test)\n",
    "y_pred = clf.predict(X_test)\n",
    "print(clf.score(X_test,y_test))"
   ]
  },
  {
   "cell_type": "code",
   "execution_count": 11,
   "metadata": {},
   "outputs": [],
   "source": [
    "erreurCerise1 = 0\n",
    "erreurCerise2 = 0\n",
    "erreurKiwi = 0\n",
    "erreurBannane = 0\n",
    "erreurBanana2 = 0\n",
    "erreurGolden1 = 0\n",
    "erreurGolden2 = 0\n",
    "erreurGolden3 = 0\n",
    "erreurCorn = 0\n",
    "erreurAppleBraeburn = 0\n",
    "erreurPeach = 0\n",
    "erreurPear = 0\n",
    "erreurAppleCrimsonSnow = 0\n",
    "erreurCocos = 0"
   ]
  },
  {
   "cell_type": "code",
   "execution_count": 12,
   "metadata": {},
   "outputs": [],
   "source": [
    "# Permet de calculer le nombre d'erreur par label\n",
    "for i in range(len(y_pred)):\n",
    "    if y_pred[i] != y_test[i]: #si le label predit est different du label test alors \n",
    "        if y_test[i] == 'Cherry 1':\n",
    "            erreurCerise1 += 1\n",
    "        if y_test[i] == 'Cherry 2':\n",
    "            erreurCerise2 += 1\n",
    "        if y_test[i] == 'Kiwi':\n",
    "            erreurKiwi += 1\n",
    "        if y_test[i] == 'Banana':\n",
    "            erreurBannane += 1\n",
    "        if y_test[i] == 'Apple Braeburn':\n",
    "            erreurAppleBraeburn += 1\n",
    "        if y_test[i] == 'Golden 1':\n",
    "            erreurGolden1 += 1\n",
    "        if y_test[i] == 'Golden 2':\n",
    "            erreurGolden2 += 1\n",
    "        if y_test[i] == 'Golden 3':\n",
    "            erreurGolden3 += 1\n",
    "        if y_test[i] == 'Corn':\n",
    "            erreurCorn += 1\n",
    "        if y_test[i] == 'Peach':\n",
    "            erreurPeach += 1\n",
    "        if y_test[i] == 'Pear':\n",
    "            erreurPear += 1\n",
    "        if y_test[i] == 'Apple Crimson Snow':\n",
    "            erreurAppleCrimsonSnow += 1\n",
    "        if y_test[i] == 'Banana Red':\n",
    "            erreurBanana2 += 1\n",
    "        if y_test[i] == 'Cocos':\n",
    "            erreurCocos += 1      \n"
   ]
  },
  {
   "cell_type": "code",
   "execution_count": 13,
   "metadata": {},
   "outputs": [
    {
     "name": "stdout",
     "output_type": "stream",
     "text": [
      "Total erreur :  164\n",
      "Accuracy :  0.9298845660538692\n"
     ]
    },
    {
     "data": {
      "text/html": [
       "<div>\n",
       "<style scoped>\n",
       "    .dataframe tbody tr th:only-of-type {\n",
       "        vertical-align: middle;\n",
       "    }\n",
       "\n",
       "    .dataframe tbody tr th {\n",
       "        vertical-align: top;\n",
       "    }\n",
       "\n",
       "    .dataframe thead th {\n",
       "        text-align: right;\n",
       "    }\n",
       "</style>\n",
       "<table border=\"1\" class=\"dataframe\">\n",
       "  <thead>\n",
       "    <tr style=\"text-align: right;\">\n",
       "      <th></th>\n",
       "      <th>label</th>\n",
       "      <th>erreur</th>\n",
       "    </tr>\n",
       "  </thead>\n",
       "  <tbody>\n",
       "    <tr>\n",
       "      <th>0</th>\n",
       "      <td>Apple Braeburn</td>\n",
       "      <td>31</td>\n",
       "    </tr>\n",
       "    <tr>\n",
       "      <th>1</th>\n",
       "      <td>Apple Crimson Snow</td>\n",
       "      <td>0</td>\n",
       "    </tr>\n",
       "    <tr>\n",
       "      <th>2</th>\n",
       "      <td>Apple Golden 1</td>\n",
       "      <td>0</td>\n",
       "    </tr>\n",
       "    <tr>\n",
       "      <th>3</th>\n",
       "      <td>Apple Golden 2</td>\n",
       "      <td>0</td>\n",
       "    </tr>\n",
       "    <tr>\n",
       "      <th>4</th>\n",
       "      <td>Apple Golden 3</td>\n",
       "      <td>0</td>\n",
       "    </tr>\n",
       "    <tr>\n",
       "      <th>5</th>\n",
       "      <td>Banana</td>\n",
       "      <td>22</td>\n",
       "    </tr>\n",
       "    <tr>\n",
       "      <th>6</th>\n",
       "      <td>Banana Red</td>\n",
       "      <td>0</td>\n",
       "    </tr>\n",
       "    <tr>\n",
       "      <th>7</th>\n",
       "      <td>Cherry 1</td>\n",
       "      <td>0</td>\n",
       "    </tr>\n",
       "    <tr>\n",
       "      <th>8</th>\n",
       "      <td>Cherry 2</td>\n",
       "      <td>0</td>\n",
       "    </tr>\n",
       "    <tr>\n",
       "      <th>9</th>\n",
       "      <td>Cocos</td>\n",
       "      <td>8</td>\n",
       "    </tr>\n",
       "    <tr>\n",
       "      <th>10</th>\n",
       "      <td>Corn</td>\n",
       "      <td>66</td>\n",
       "    </tr>\n",
       "    <tr>\n",
       "      <th>11</th>\n",
       "      <td>Kiwi</td>\n",
       "      <td>0</td>\n",
       "    </tr>\n",
       "    <tr>\n",
       "      <th>12</th>\n",
       "      <td>Peach</td>\n",
       "      <td>0</td>\n",
       "    </tr>\n",
       "    <tr>\n",
       "      <th>13</th>\n",
       "      <td>Pear</td>\n",
       "      <td>37</td>\n",
       "    </tr>\n",
       "  </tbody>\n",
       "</table>\n",
       "</div>"
      ],
      "text/plain": [
       "                 label erreur\n",
       "0       Apple Braeburn     31\n",
       "1   Apple Crimson Snow      0\n",
       "2       Apple Golden 1      0\n",
       "3       Apple Golden 2      0\n",
       "4       Apple Golden 3      0\n",
       "5               Banana     22\n",
       "6           Banana Red      0\n",
       "7             Cherry 1      0\n",
       "8             Cherry 2      0\n",
       "9                Cocos      8\n",
       "10                Corn     66\n",
       "11                Kiwi      0\n",
       "12               Peach      0\n",
       "13                Pear     37"
      ]
     },
     "execution_count": 13,
     "metadata": {},
     "output_type": "execute_result"
    }
   ],
   "source": [
    "# Creer un dataframe avec le nombre d'erreur pour chaque label\n",
    "dfErr = pd.DataFrame(columns=['label', 'erreur'])\n",
    "dfErr.loc[0] = [\"Apple Braeburn\", erreurAppleBraeburn]\n",
    "dfErr.loc[1] = [\"Apple Crimson Snow\", erreurAppleCrimsonSnow]\n",
    "dfErr.loc[2] = [\"Apple Golden 1\", erreurGolden1]\n",
    "dfErr.loc[3] = [\"Apple Golden 2\", erreurGolden2]\n",
    "dfErr.loc[4] = [\"Apple Golden 3\", erreurGolden3]\n",
    "dfErr.loc[5] = [\"Banana\", erreurBannane]\n",
    "dfErr.loc[6] = [\"Banana Red\", erreurBanana2]\n",
    "dfErr.loc[7] = [\"Cherry 1\", erreurCerise1]\n",
    "dfErr.loc[8] = [\"Cherry 2\", erreurCerise2]\n",
    "dfErr.loc[9] = [\"Cocos\", erreurCocos]\n",
    "dfErr.loc[10] = [\"Corn\", erreurCorn]\n",
    "dfErr.loc[11] = [\"Kiwi\", erreurKiwi]\n",
    "dfErr.loc[12] = [\"Peach\", erreurPeach]\n",
    "dfErr.loc[13] = [\"Pear\", erreurPear]\n",
    "print(\"Total erreur : \", dfErr['erreur'].sum())\n",
    "print(\"Accuracy : \", 1-(dfErr['erreur'].sum()/len(y_test)))\n",
    "dfErr.head(14) "
   ]
  },
  {
   "cell_type": "code",
   "execution_count": 14,
   "metadata": {},
   "outputs": [
    {
     "data": {
      "image/png": "[encoded data removed]",
      "text/plain": [
       "<Figure size 432x288 with 1 Axes>"
      ]
     },
     "metadata": {},
     "output_type": "display_data"
    }
   ],
   "source": [
    "# ---------------------------- Graphique camembert pourcentage d'erreur par label -------------\n",
    "labels = []\n",
    "sizes = []\n",
    "for i in range(len(dfErr)):\n",
    "        if dfErr['erreur'][i] > 0: # Si il n'y a aucune erreur pour ce label alors on le skipe\n",
    "                labels.append(dfErr['label'][i])\n",
    "                sizes.append(dfErr['erreur'][i])\n",
    "\n",
    "colors = ['yellowgreen', 'gold', 'lightskyblue', 'lightcoral', 'pink']\n",
    "\n",
    "diagramme = plt.pie(sizes, labels=labels, colors=colors, \n",
    "        autopct='%1.1f%%', shadow=True, startangle=90, textprops={'color':\"w\"})\n",
    "\n",
    "title = plt.title(\"Erreur par label (en couleur)\")\n",
    "plt.setp(title, fontsize='15', color='white')\n",
    "plt.axis('equal')\n",
    "plt.show()"
   ]
  },
  {
   "cell_type": "code",
   "execution_count": 15,
   "metadata": {},
   "outputs": [],
   "source": [
    "# ---------------------------- Nombre de photo ---------------------------------\n",
    "# Nombre de photo test par label\n",
    "AppleBraeburnTest = 164\n",
    "AppleCrimsonSnowTest =148\n",
    "AppleGolden1Test = 160\n",
    "AppleGolden2Test = 164\n",
    "AppleGolden3Test = 161\n",
    "BananaTest = 166\n",
    "BananaRedTest = 166\n",
    "Cherry1Test = 164\n",
    "Cherry2Test = 246\n",
    "CocosTest = 166\n",
    "CornTest = 150\n",
    "KiwiTest = 156\n",
    "PeachTest = 164\n",
    "PearTest = 164\n",
    "\n",
    "# Nombre de photo train par label\n",
    "AppleBraeburnTrain = 492\n",
    "AppleCrimsonSnowTrain = 444\n",
    "AppleGolden1Train = 480\n",
    "AppleGolden2Train = 492\n",
    "AppleGolden3Train = 481\n",
    "BananaTrain = 490\n",
    "BananaRedTrain = 490\n",
    "Cherry1Train = 492\n",
    "Cherry2Train = 738\n",
    "CocosTrain = 450\n",
    "CornTrain = 450\n",
    "KiwiTrain = 466\n",
    "PeachTrain = 492\n",
    "PearTrain = 492"
   ]
  },
  {
   "cell_type": "code",
   "execution_count": 16,
   "metadata": {},
   "outputs": [
    {
     "data": {
      "image/png": "[encoded data removed]",
      "text/plain": [
       "<Figure size 432x288 with 1 Axes>"
      ]
     },
     "metadata": {
      "needs_background": "light"
     },
     "output_type": "display_data"
    }
   ],
   "source": [
    "# ---------------------------- Graphique barre Nombre de photo par label-------------------\n",
    "import numpy as np\n",
    "import matplotlib.pyplot as plt\n",
    "data = [[AppleBraeburnTrain, AppleCrimsonSnowTrain, AppleGolden1Train, AppleGolden2Train, AppleGolden3Train, BananaTrain, BananaRedTrain, Cherry1Train, Cherry2Train, CocosTrain, CornTrain, KiwiTrain, PeachTrain, PearTrain],\n",
    "[AppleBraeburnTest, AppleCrimsonSnowTest, AppleGolden1Test, AppleGolden2Test, AppleGolden3Test, BananaTest, BananaRedTest, Cherry1Test, Cherry2Test, CocosTest, CornTest, KiwiTest, PeachTest, PearTest]]\n",
    "X = np.arange(len(data[0]))\n",
    "fig = plt.figure()\n",
    "ax = fig.add_axes([0,0,1,1])\n",
    "plt.bar(X, data[0], color='b', width=0.5)\n",
    "plt.bar(X + 0.5, data[1], color='r', width=0.5)\n",
    "xticks = plt.xticks(X + 0.25, ('Apple Braeburn', 'Apple Crimson Snow', 'Apple Golden 1', 'Apple Golden 2', 'Apple Golden 3', 'Banana', 'Banana Red', 'Cherry 1', 'Cherry 2', 'Cocos', 'Corn', 'Kiwi', 'Peach', 'Pear'), rotation='vertical')\n",
    "plt.legend(['Train', 'Test'])\n",
    "title1 = plt.title('Nombre de photo par label')\n",
    "alpha = 0.5\n",
    "plt.show()\n"
   ]
  },
  {
   "cell_type": "code",
   "execution_count": null,
   "metadata": {},
   "outputs": [],
   "source": []
  }
 ],
 "metadata": {
  "interpreter": {
   "hash": "0c08dcc350fb3d9f0a7e7985c580c178f905b26b0b2f6675e023aaebfb7ab16e"
  },
  "kernelspec": {
   "display_name": "Python 3.9.7 64-bit ('sklearn-env': conda)",
   "language": "python",
   "name": "python3"
  },
  "language_info": {
   "codemirror_mode": {
    "name": "ipython",
    "version": 3
   },
   "file_extension": ".py",
   "mimetype": "text/x-python",
   "name": "python",
   "nbconvert_exporter": "python",
   "pygments_lexer": "ipython3",
   "version": "3.9.7"
  },
  "orig_nbformat": 4
 },
 "nbformat": 4,
 "nbformat_minor": 2
}
