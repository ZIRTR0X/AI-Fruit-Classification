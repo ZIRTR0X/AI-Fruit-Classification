{
 "cells": [
  {
   "cell_type": "code",
   "execution_count": 2,
   "metadata": {},
   "outputs": [],
   "source": [
    "import matplotlib.pyplot as plt\n",
    "import numpy as np\n",
    "import pandas as pd\n",
    "import sklearn as sk\n",
    "import cv2 as cv\n",
    "import os\n",
    "from sklearn import datasets"
   ]
  },
  {
   "cell_type": "code",
   "execution_count": 3,
   "metadata": {},
   "outputs": [],
   "source": [
    "#création d'un dataframe contenant toutes les images avec leur appelation \n",
    "def createDataFrame(myDir):\n",
    "    dataframe = pd.DataFrame(columns=['label', 'img_hsv'])\n",
    "    for mroot, mdirs, mfiles in os.walk(myDir):\n",
    "        for dir in mdirs:\n",
    "            label = dir\n",
    "            print(label)\n",
    "            for root, dirs, files in os.walk(mroot+'\\\\'+dir):\n",
    "                for file in files:\n",
    "                    img = cv.imread(root+'\\\\'+file)\n",
    "                    imgresize = cv.resize(img, (80, 80))\n",
    "                    #traitement de l'image\n",
    "                    gray = cv.cvtColor(imgresize, cv.COLOR_BGR2GRAY)\n",
    "                    dataframe = dataframe.append({'label': label, 'gray': gray}, ignore_index=True)\n",
    "    return dataframe"
   ]
  },
  {
   "cell_type": "code",
   "execution_count": 4,
   "metadata": {},
   "outputs": [
    {
     "name": "stdout",
     "output_type": "stream",
     "text": [
      "Apple Braeburn\n",
      "Apple Crimson Snow\n",
      "Apple Golden 1\n",
      "Apple Golden 2\n",
      "Apple Golden 3\n",
      "Banana\n",
      "Banana Red\n",
      "Cherry 1\n",
      "Cherry 2\n",
      "Cocos\n",
      "Kiwi\n",
      "Peach\n",
      "Pear\n"
     ]
    }
   ],
   "source": [
    "DataFrame=createDataFrame('./dataset/Training/')"
   ]
  },
  {
   "cell_type": "code",
   "execution_count": 12,
   "metadata": {},
   "outputs": [
    {
     "name": "stdout",
     "output_type": "stream",
     "text": [
      "80\n",
      "6539\n"
     ]
    }
   ],
   "source": [
    "#transforme le DataFrame en un tableau de photo X et un tableau de label y\n",
    "X_train = list(DataFrame['gray'])\n",
    "y_train = list(DataFrame['label'])\n",
    "print(len(X_train[0])) # Taille de l'image\n",
    "print(len(X_train)) # Nombre d'images\n",
    "\n",
    "#transforme les données en vecteur colonne (1D)\n",
    "for i in range(len(X_train)):\n",
    "    X_train[i] = X_train[i].flatten()"
   ]
  },
  {
   "cell_type": "code",
   "execution_count": 13,
   "metadata": {},
   "outputs": [
    {
     "name": "stdout",
     "output_type": "stream",
     "text": [
      "Apple Braeburn\n",
      "Apple Crimson Snow\n",
      "Apple Golden 1\n",
      "Apple Golden 2\n",
      "Apple Golden 3\n",
      "Banana\n",
      "Banana Red\n",
      "Cherry 1\n",
      "Cherry 2\n",
      "Cocos\n",
      "Corn\n",
      "Kiwi\n",
      "Peach\n",
      "Pear\n"
     ]
    }
   ],
   "source": [
    "DataFrameTest=createDataFrame('./dataset/Test/')"
   ]
  },
  {
   "cell_type": "code",
   "execution_count": 17,
   "metadata": {},
   "outputs": [
    {
     "name": "stdout",
     "output_type": "stream",
     "text": [
      "80\n",
      "2339\n"
     ]
    }
   ],
   "source": [
    "#transforme le DataFrame en un tableau de photo X et un tableau de label y\n",
    "X_test = list(DataFrameTest['gray'])\n",
    "y_test = list(DataFrameTest['label'])\n",
    "print(len(X_test[0])) # Taille des images\n",
    "print(len(X_test)) # Nombre d'images\n",
    "\n",
    "for i in range(len(X_test)):\n",
    "    X_test[i] = X_test[i].flatten()"
   ]
  },
  {
   "cell_type": "code",
   "execution_count": 16,
   "metadata": {},
   "outputs": [],
   "source": [
    "from sklearn import svm\n",
    "from sklearn.model_selection import GridSearchCV\n",
    "\n",
    "# ---------------------------- Parameter tuning ---------------------------------\n",
    "# Permet de tester les meilleur combinaison de parametre\n",
    "# param_grid = [\n",
    "#   {'C': [0.001, 0.01, 0.1, 1, 10, 100, 1000], 'kernel': ['linear'], 'gamma': [0.01, 0.001, 0.0001]},\n",
    "#  ]\n",
    "# svc = svm.SVC()\n",
    "# clf = GridSearchCV(svc, param_grid, verbose=3)\n",
    "# clf.fit(X_train, y_train)\n",
    "# ---------------------------- Ancien -------------------------------------------\n",
    "# param_grid = [\n",
    "#   {'C': [1, 10, 100, 1000], 'kernel': ['linear']},\n",
    "#   {'C': [1, 10, 100, 1000], 'gamma': [0.001, 0.0001], 'kernel': ['rbf']},\n",
    "#  ]\n",
    "# svc = svm.SVC()\n",
    "# clf = GridSearchCV(svc, param_grid, verbose=3)\n",
    "# clf.fit(X_train, y_train)\n",
    "\n",
    "# --------------------------------------------------------------------------------\n",
    "clf = svm.SVC(C=1, kernel='linear')\n",
    "clf.fit(X_train, y_train)"
   ]
  }
 ],
 "metadata": {
  "interpreter": {
   "hash": "0c08dcc350fb3d9f0a7e7985c580c178f905b26b0b2f6675e023aaebfb7ab16e"
  },
  "kernelspec": {
   "display_name": "Python 3.9.7 64-bit ('sklearn-env': conda)",
   "language": "python",
   "name": "python3"
  },
  "language_info": {
   "codemirror_mode": {
    "name": "ipython",
    "version": 3
   },
   "file_extension": ".py",
   "mimetype": "text/x-python",
   "name": "python",
   "nbconvert_exporter": "python",
   "pygments_lexer": "ipython3",
   "version": "3.9.7"
  },
  "orig_nbformat": 4
 },
 "nbformat": 4,
 "nbformat_minor": 2
}
