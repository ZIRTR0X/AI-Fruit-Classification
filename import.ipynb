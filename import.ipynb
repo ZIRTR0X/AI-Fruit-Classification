{
 "cells": [
  {
   "cell_type": "code",
   "execution_count": 3,
   "metadata": {},
   "outputs": [],
   "source": [
    "import pandas as pd\n",
    "import cv2 as cv\n",
    "import os\n",
    "import numpy as np\n",
    "import matplotlib.pyplot as plt"
   ]
  },
  {
   "cell_type": "code",
   "execution_count": 4,
   "metadata": {},
   "outputs": [],
   "source": [
    "def createFileList(myDir):\n",
    "    dataframe = pd.DataFrame(columns=['label', 'img_hsv'])\n",
    "    for mroot, mdirs, mfiles in os.walk(myDir):\n",
    "        for dir in mdirs:\n",
    "            label = dir\n",
    "            print(label)\n",
    "            for root, dirs, files in os.walk(mroot+'\\\\'+dir):\n",
    "                for file in files:\n",
    "                    img = cv.imread(root+'\\\\'+file)\n",
    "                    #traitement de l'image\n",
    "                    dataframe = dataframe.append({'label': label, 'img': img}, ignore_index=True)\n",
    "    return dataframe"
   ]
  },
  {
   "cell_type": "code",
   "execution_count": null,
   "metadata": {},
   "outputs": [],
   "source": [
    "filetache=createFileList('./dataset/train/')\n",
    "print(path)"
   ]
  }
 ],
 "metadata": {
  "interpreter": {
   "hash": "ebeb9e479a162b73477a0b7415be9442fb26e1fe6456f369c797b0db191dbbab"
  },
  "kernelspec": {
   "display_name": "Python 3.9.7 64-bit ('sklearn-env': conda)",
   "language": "python",
   "name": "python3"
  },
  "language_info": {
   "codemirror_mode": {
    "name": "ipython",
    "version": 3
   },
   "file_extension": ".py",
   "mimetype": "text/x-python",
   "name": "python",
   "nbconvert_exporter": "python",
   "pygments_lexer": "ipython3",
   "version": "3.9.7"
  },
  "orig_nbformat": 4
 },
 "nbformat": 4,
 "nbformat_minor": 2
}
